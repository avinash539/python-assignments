{
 "cells": [
  {
   "cell_type": "markdown",
   "metadata": {},
   "source": [
    "<h1>Task 1</h1>"
   ]
  },
  {
   "cell_type": "markdown",
   "metadata": {},
   "source": [
    "<h5>Q 1.1</h5>Write a Python Program to implement your own myreduce() function which works exactly like\n",
    "Python's built-in function reduce()"
   ]
  },
  {
   "cell_type": "code",
   "execution_count": 14,
   "metadata": {},
   "outputs": [
    {
     "name": "stdout",
     "output_type": "stream",
     "text": [
      "Addition is: 15\n",
      "subtraction is: -13\n",
      "Multiplication is: 120\n",
      "Division is: 0.008333\n"
     ]
    }
   ],
   "source": [
    "def myreduce(opr, lst): \n",
    "    result = lst[0]\n",
    "    for l in lst[1:]:\n",
    "        result = opr(result, l)\n",
    "    return result\n",
    "\n",
    "def add(x , y):\n",
    "    return x+y\n",
    "\n",
    "def sub(x , y):\n",
    "    return x-y\n",
    "\n",
    "def mul(x , y):\n",
    "    return x*y\n",
    "\n",
    "def div(x , y):\n",
    "    return x/y\n",
    "\n",
    "print('Addition is: %d'  % myreduce(add,[1,2,3,4,5]))\n",
    "print('subtraction is: %d' % myreduce(sub,[1,2,3,4,5]))\n",
    "print('Multiplication is: %d' % myreduce(mul,[1,2,3,4,5]))\n",
    "print('Division is: %f' % myreduce(div,[1,2,3,4,5]))"
   ]
  },
  {
   "cell_type": "markdown",
   "metadata": {},
   "source": [
    "<h5>Q 1.2</h5>Write a Python program to implement your own myfilter() function which works exactly like\n",
    "Python's built-in function filter()"
   ]
  },
  {
   "cell_type": "code",
   "execution_count": 2,
   "metadata": {},
   "outputs": [
    {
     "name": "stdout",
     "output_type": "stream",
     "text": [
      "Even list:  [0, 2, 4, 6, 8, 10, 12, 14, 16, 18]\n",
      "Odd list:  [1, 3, 5, 7, 9, 11, 13, 15, 17, 19]\n"
     ]
    }
   ],
   "source": [
    "def even(num):\n",
    "    if num % 2 == 0:\n",
    "        return True\n",
    "    \n",
    "def odd(num):\n",
    "    if num % 2 != 0:\n",
    "        return True\n",
    "    \n",
    "def myfilter(func, lst):\n",
    "    mylist = []\n",
    "    for l in lst:\n",
    "        if(func(l)):\n",
    "            mylist.append(l)\n",
    "    return mylist\n",
    "                \n",
    "\n",
    "lst = range(20)\n",
    "\n",
    "print(\"Even list: \", list(myfilter(even,lst)))\n",
    "print(\"Odd list: \", list(myfilter(odd,lst)))"
   ]
  },
  {
   "cell_type": "markdown",
   "metadata": {},
   "source": [
    "<h5>Q 2</h5>Implement List comprehensions to produce the following lists.<br>\n",
    "Write List comprehensions to produce the following Lists"
   ]
  },
  {
   "cell_type": "markdown",
   "metadata": {},
   "source": [
    "<h7><pre>['A', 'C', 'A', 'D', 'G', 'I', ’L’, ‘ D’]<br>\n",
    "\n",
    "['x', 'xx', 'xxx', 'xxxx', 'y', 'yy', 'yyy', 'yyyy', 'z', 'zz', 'zzz', 'zzzz']\n",
    "\n",
    "['x', 'y', 'z', 'xx', 'yy', 'zz', 'xx', 'yy', 'zz', 'xxxx', 'yyyy', 'zzzz']\n",
    "\n",
    "[[2], [3], [4], [3], [4], [5], [4], [5], [6]]\n",
    "\n",
    "[[2, 3, 4, 5], [3, 4, 5, 6], [4, 5, 6, 7], [5, 6, 7, 8]]\n",
    "\n",
    "[(1, 1), (2, 1), (3, 1), (1, 2), (2, 2), (3, 2), (1, 3), (2, 3), (3, 3)]</pre></h7>\n"
   ]
  },
  {
   "cell_type": "code",
   "execution_count": 3,
   "metadata": {},
   "outputs": [
    {
     "name": "stdout",
     "output_type": "stream",
     "text": [
      "['A', 'C', 'A', 'D', 'G', 'I', 'L', 'D']\n",
      "['x', 'xx', 'xxx', 'xxxx', 'y', 'yy', 'yyy', 'yyyy', 'z', 'zz', 'zzz', 'zzzz']\n",
      "['x', 'y', 'z', 'xx', 'yy', 'zz', 'xx', 'yy', 'zz', 'xxxx', 'yyyy', 'zzzz']\n",
      "[[2], [3], [4], [3], [4], [5], [4], [5], [6]]\n",
      "[[2, 3, 4, 5], [3, 4, 5, 6], [4, 5, 6, 7], [5, 6, 7, 8]]\n",
      "[(1, 1), (2, 1), (3, 1), (1, 2), (2, 2), (3, 2), (1, 3), (2, 3), (3, 3)]\n"
     ]
    }
   ],
   "source": [
    "st = 'ACADGILD'\n",
    "print([alphabet for alphabet in st])\n",
    "\n",
    "st1 = 'xyz'\n",
    "print([alphabet*i for alphabet in st1 for i in range(1,5)])\n",
    "\n",
    "print([alphabet*2 if i==3 else alphabet*i for i in range(1,5) for alphabet in st1])\n",
    "\n",
    "lst = [2,3,4]\n",
    "print([[element+num] for element in lst for num in range(0,3)])\n",
    "\n",
    "lst = [2,3,4,5]\n",
    "print([[element+num for element in lst] for num in range(0,4)])\n",
    "\n",
    "lst = [1,2,3]\n",
    "print([(num2,num1) for num1 in lst for num2 in lst])"
   ]
  },
  {
   "cell_type": "markdown",
   "metadata": {},
   "source": [
    "<h5>Q 3</h5>Implement a function longestWord() that takes a list of words and returns the longest one.\n"
   ]
  },
  {
   "cell_type": "code",
   "execution_count": 4,
   "metadata": {},
   "outputs": [
    {
     "data": {
      "text/plain": [
       "'elephant'"
      ]
     },
     "execution_count": 4,
     "metadata": {},
     "output_type": "execute_result"
    }
   ],
   "source": [
    "def longestWord(lst):\n",
    "    word = lst[0]\n",
    "    for l in lst:\n",
    "        if len(word) > len(l):\n",
    "            word = word\n",
    "        else:\n",
    "            word = l\n",
    "    return word\n",
    "    \n",
    "longestWord(['Lion','cat','elephant','monkey'])    "
   ]
  },
  {
   "cell_type": "markdown",
   "metadata": {},
   "source": [
    "<h1>Task 2</h1>"
   ]
  },
  {
   "cell_type": "markdown",
   "metadata": {},
   "source": [
    "<h5>Q 1.1</h5>Write a Python Program(with class concepts) to find the area of the triangle using the below\n",
    "formula.\n",
    "area = (s*(s-a)*(s-b)*(s-c)) ** 0.5\n",
    "Function to take the length of the sides of triangle from user should be defined in the parent\n",
    "class and function to calculate the area should be defined in subclass."
   ]
  },
  {
   "cell_type": "code",
   "execution_count": 2,
   "metadata": {},
   "outputs": [
    {
     "name": "stdout",
     "output_type": "stream",
     "text": [
      "Enter the sides of triangle:\n",
      "20\n",
      "20\n",
      "10\n"
     ]
    },
    {
     "data": {
      "text/plain": [
       "96.82458365518542"
      ]
     },
     "execution_count": 2,
     "metadata": {},
     "output_type": "execute_result"
    }
   ],
   "source": [
    "class Area:\n",
    "    def __init__(self):\n",
    "        self.a = int(input())\n",
    "        self.b = int(input())\n",
    "        self.c = int(input())\n",
    "        \n",
    "class findArea(Area):\n",
    "    def __init__(self):\n",
    "        print('Enter the sides of triangle:')\n",
    "        super().__init__()\n",
    "        \n",
    "    def calculate(self):\n",
    "        s = (self.a + self.b + self.c) / 2\n",
    "        return (s*(s-self.a)*(s-self.b)*(s-self.c))**0.5     \n",
    "        \n",
    "\n",
    "obj = findArea()\n",
    "obj.calculate()\n"
   ]
  },
  {
   "cell_type": "markdown",
   "metadata": {},
   "source": [
    "<h5>Q 1.2</h5>Write a function filter_long_words() that takes a list of words and an integer n and returns the list\n",
    "of words that are longer than n."
   ]
  },
  {
   "cell_type": "code",
   "execution_count": 11,
   "metadata": {},
   "outputs": [
    {
     "data": {
      "text/plain": [
       "['Device', 'Shudanshu']"
      ]
     },
     "execution_count": 11,
     "metadata": {},
     "output_type": "execute_result"
    }
   ],
   "source": [
    "def filter_long_word(lst,n):\n",
    "    mylst = []\n",
    "    for l in lst:\n",
    "        if len(l) > n:\n",
    "            mylst.append(l)\n",
    "    return mylst\n",
    "\n",
    "lst = ['Cat','Moon','Device','Shudanshu']\n",
    "filter_long_word(lst,5)"
   ]
  },
  {
   "cell_type": "markdown",
   "metadata": {},
   "source": [
    "<h5>Q 2.1</h5>Write a Python program using function concept that maps list of words into a list of integers\n",
    "representing the lengths of the corresponding words.\n",
    "Hint: If a list [ ab,cde,erty] is passed on to the python function output should come as [2,3,4]\n",
    "Here 2,3 and 4 are the lengths of the words in the list."
   ]
  },
  {
   "cell_type": "code",
   "execution_count": 18,
   "metadata": {},
   "outputs": [
    {
     "data": {
      "text/plain": [
       "[3, 4, 6, 9]"
      ]
     },
     "execution_count": 18,
     "metadata": {},
     "output_type": "execute_result"
    }
   ],
   "source": [
    "def myMap(lst):\n",
    "    myword = []\n",
    "    for l in lst:\n",
    "        myword.append(len(l))\n",
    "        \n",
    "    return myword\n",
    "\n",
    "lst = ['Cat','Moon','Device','Shudanshu']\n",
    "myMap(lst)"
   ]
  },
  {
   "cell_type": "markdown",
   "metadata": {},
   "source": [
    "<h5>Q 2.2</h5>Write a Python function which takes a character (i.e. a string of length 1) and returns True if it is\n",
    "a vowel, False otherwise.\n"
   ]
  },
  {
   "cell_type": "code",
   "execution_count": 34,
   "metadata": {},
   "outputs": [
    {
     "name": "stdout",
     "output_type": "stream",
     "text": [
      "T\n"
     ]
    },
    {
     "data": {
      "text/plain": [
       "False"
      ]
     },
     "execution_count": 34,
     "metadata": {},
     "output_type": "execute_result"
    }
   ],
   "source": [
    "def checkVowel(char):\n",
    "    vowel = ['A','E','I','O','U','a','e','i','o','u']\n",
    "    for l in vowel:\n",
    "        if char == l:\n",
    "            return True\n",
    "    else:\n",
    "        return False\n",
    "\n",
    "# Loop for tacking input of length of one character\n",
    "\n",
    "char = input()\n",
    "while len(char) != 1:\n",
    "    char = input()\n",
    "    \n",
    "checkVowel(char)\n",
    "        "
   ]
  }
 ],
 "metadata": {
  "kernelspec": {
   "display_name": "Python 3",
   "language": "python",
   "name": "python3"
  },
  "language_info": {
   "codemirror_mode": {
    "name": "ipython",
    "version": 3
   },
   "file_extension": ".py",
   "mimetype": "text/x-python",
   "name": "python",
   "nbconvert_exporter": "python",
   "pygments_lexer": "ipython3",
   "version": "3.7.4"
  }
 },
 "nbformat": 4,
 "nbformat_minor": 2
}
